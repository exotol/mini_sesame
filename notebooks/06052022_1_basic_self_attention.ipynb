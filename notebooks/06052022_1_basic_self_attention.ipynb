{
 "cells": [
  {
   "cell_type": "code",
   "execution_count": 1,
   "id": "4f215604-388b-4a08-8c33-b0ca93cbb32c",
   "metadata": {},
   "outputs": [],
   "source": [
    "import torch\n",
    "import seaborn as sns\n",
    "import numpy as np\n",
    "import random\n",
    "import os"
   ]
  },
  {
   "cell_type": "code",
   "execution_count": 2,
   "id": "46321088-4ef9-4df7-9024-bac4f1277c52",
   "metadata": {},
   "outputs": [],
   "source": [
    "def seed_everything(seed=42):\n",
    "    random.seed(seed)\n",
    "    os.environ['PYTHONHASHSEED'] = str(seed)\n",
    "    np.random.seed(seed)\n",
    "    torch.manual_seed(seed)\n",
    "    torch.backends.cudnn.deterministic = True\n",
    "    torch.backends.cudnn.benchmark = False"
   ]
  },
  {
   "cell_type": "code",
   "execution_count": 3,
   "id": "dd013685-13f8-461e-a2f5-1081d13480bb",
   "metadata": {},
   "outputs": [],
   "source": [
    "seed_everything(seed=50)"
   ]
  },
  {
   "cell_type": "code",
   "execution_count": null,
   "id": "812968f0-e9b6-44ea-acb5-c7f57ebe867e",
   "metadata": {},
   "outputs": [],
   "source": []
  },
  {
   "cell_type": "code",
   "execution_count": 4,
   "id": "2a35cdf0-34e3-4d40-bbf6-2b8b4790e0ae",
   "metadata": {},
   "outputs": [],
   "source": [
    "batch_size = 3\n",
    "seq_len = 5\n",
    "emb_size = 4"
   ]
  },
  {
   "cell_type": "markdown",
   "id": "01d3a56b-d695-431c-90b7-f02099c5ac7a",
   "metadata": {
    "tags": []
   },
   "source": [
    "### Simple self-attention without parameters"
   ]
  },
  {
   "cell_type": "code",
   "execution_count": 11,
   "id": "6b03d982-3679-40c1-92f4-1b4863f53905",
   "metadata": {},
   "outputs": [],
   "source": [
    "sample = torch.randn(size=(batch_size, seq_len, emb_size))"
   ]
  },
  {
   "cell_type": "code",
   "execution_count": 12,
   "id": "afd43b19-bd37-4bd7-9590-087b31c15312",
   "metadata": {},
   "outputs": [
    {
     "data": {
      "text/plain": [
       "torch.Size([3, 5, 4])"
      ]
     },
     "execution_count": 12,
     "metadata": {},
     "output_type": "execute_result"
    }
   ],
   "source": [
    "sample.shape"
   ]
  },
  {
   "cell_type": "code",
   "execution_count": 13,
   "id": "f9edcda3-a8b1-4d13-b780-5d7f0c860e6a",
   "metadata": {},
   "outputs": [
    {
     "data": {
      "text/plain": [
       "tensor([[-1.1805,  0.0810,  0.1528,  1.0364],\n",
       "        [ 0.9567, -0.4765, -1.7890,  0.0378],\n",
       "        [-0.4655, -0.3508, -2.2190,  0.0446],\n",
       "        [ 0.2860, -1.7712,  1.4121,  0.2956],\n",
       "        [ 0.2176, -0.2864, -0.5551,  0.7846]])"
      ]
     },
     "execution_count": 13,
     "metadata": {},
     "output_type": "execute_result"
    }
   ],
   "source": [
    "sample[0]"
   ]
  },
  {
   "cell_type": "code",
   "execution_count": 14,
   "id": "afbe61d1-d0db-4f00-b0d3-71262599f5fa",
   "metadata": {},
   "outputs": [
    {
     "data": {
      "text/plain": [
       "torch.Size([3, 5, 5])"
      ]
     },
     "execution_count": 14,
     "metadata": {},
     "output_type": "execute_result"
    }
   ],
   "source": [
    "raw_score = torch.bmm(sample, torch.transpose(sample, dim0=1, dim1=2))\n",
    "\n",
    "# raw_score /= torch.sqrt(torch.Tensor(emb_size))\n",
    "\n",
    "raw_score.shape"
   ]
  },
  {
   "cell_type": "code",
   "execution_count": 15,
   "id": "a987f492-a8fc-40f8-9bbb-3cabb2dcfd33",
   "metadata": {},
   "outputs": [
    {
     "data": {
      "text/plain": [
       "tensor([[ 2.4975, -1.4022,  0.2282,  0.0410,  0.4483],\n",
       "        [-1.4022,  4.3443,  3.6933, -1.3975,  1.3674],\n",
       "        [ 0.2282,  3.6933,  5.2657, -2.6322,  1.2660],\n",
       "        [ 0.0410, -1.3975, -2.6322,  5.3006,  0.0176],\n",
       "        [ 0.4483,  1.3674,  1.2660,  0.0176,  1.0531]])"
      ]
     },
     "execution_count": 15,
     "metadata": {},
     "output_type": "execute_result"
    }
   ],
   "source": [
    "raw_score[0]"
   ]
  },
  {
   "cell_type": "code",
   "execution_count": 16,
   "id": "153c7eab-8e6c-423c-aca4-4ed576e21e48",
   "metadata": {},
   "outputs": [
    {
     "data": {
      "text/plain": [
       "tensor([[7.4728e-01, 1.5131e-02, 7.7255e-02, 6.4067e-02, 9.6271e-02],\n",
       "        [2.0230e-03, 6.3336e-01, 3.3032e-01, 2.0325e-03, 3.2271e-02],\n",
       "        [5.2646e-03, 1.6836e-01, 8.1121e-01, 3.0138e-04, 1.4862e-02],\n",
       "        [5.1364e-03, 1.2188e-03, 3.5457e-04, 9.8827e-01, 5.0176e-03],\n",
       "        [1.2116e-01, 3.0377e-01, 2.7447e-01, 7.8764e-02, 2.2184e-01]])"
      ]
     },
     "execution_count": 16,
     "metadata": {},
     "output_type": "execute_result"
    }
   ],
   "source": [
    "score = torch.softmax(raw_score, dim=2)\n",
    "\n",
    "score[0]"
   ]
  },
  {
   "cell_type": "code",
   "execution_count": 17,
   "id": "8cd4747f-dc59-4149-a4d5-330da930e466",
   "metadata": {},
   "outputs": [
    {
     "data": {
      "text/plain": [
       "tensor([1.0000, 1.0000, 1.0000, 1.0000, 1.0000])"
      ]
     },
     "execution_count": 17,
     "metadata": {},
     "output_type": "execute_result"
    }
   ],
   "source": [
    "score[0].sum(dim=1)"
   ]
  },
  {
   "cell_type": "code",
   "execution_count": 18,
   "id": "7c828d61-1618-4c5e-b752-0fb5960eb710",
   "metadata": {},
   "outputs": [],
   "source": [
    "cont_emb = torch.bmm(score, sample)"
   ]
  },
  {
   "cell_type": "code",
   "execution_count": 19,
   "id": "836df94e-0c19-4352-958c-04c181326078",
   "metadata": {},
   "outputs": [
    {
     "data": {
      "text/plain": [
       "tensor([[-0.8644, -0.1148, -0.0473,  0.8729],\n",
       "        [ 0.4574, -0.4303, -1.8808,  0.0667],\n",
       "        [-0.2194, -0.3692, -2.1083,  0.0597],\n",
       "        [ 0.2787, -1.7522,  1.3906,  0.3015],\n",
       "        [ 0.0906, -0.4343, -1.1459,  0.3466]])"
      ]
     },
     "execution_count": 19,
     "metadata": {},
     "output_type": "execute_result"
    }
   ],
   "source": [
    "cont_emb[0]"
   ]
  },
  {
   "cell_type": "code",
   "execution_count": 20,
   "id": "eae26cca-dac8-4e16-b440-7004c2f177c0",
   "metadata": {},
   "outputs": [
    {
     "data": {
      "text/plain": [
       "<AxesSubplot:>"
      ]
     },
     "execution_count": 20,
     "metadata": {},
     "output_type": "execute_result"
    },
    {
     "data": {
      "image/png": "[encoded data removed]",
      "text/plain": [
       "<Figure size 432x288 with 2 Axes>"
      ]
     },
     "metadata": {
      "needs_background": "light"
     },
     "output_type": "display_data"
    }
   ],
   "source": [
    "sns.heatmap(score[0])"
   ]
  },
  {
   "cell_type": "markdown",
   "id": "511f9dc7-d06f-4af0-9a46-6faefea43f5c",
   "metadata": {},
   "source": [
    "### Add parameters (Manual)"
   ]
  },
  {
   "cell_type": "code",
   "execution_count": 21,
   "id": "2fbb12e1-ddcb-409a-b0de-f9ded64bb144",
   "metadata": {},
   "outputs": [],
   "source": [
    "new_emb_size = 3"
   ]
  },
  {
   "cell_type": "code",
   "execution_count": 22,
   "id": "1882c306-b10e-45c4-a07a-251828981160",
   "metadata": {},
   "outputs": [],
   "source": [
    "weight_k = torch.randn(size=(emb_size, new_emb_size))\n",
    "weight_q = torch.randn(size=(emb_size, new_emb_size))\n",
    "weight_v = torch.randn(size=(emb_size, new_emb_size))\n",
    "\n",
    "out = torch.randn(size=(new_emb_size, emb_size))"
   ]
  },
  {
   "cell_type": "code",
   "execution_count": 23,
   "id": "ad41663d-6bbf-447b-9d9c-51745c24e41a",
   "metadata": {},
   "outputs": [
    {
     "data": {
      "text/plain": [
       "tensor([[ 2.0996, -0.3499, -0.2142],\n",
       "        [-0.1858, -0.5034,  0.8658],\n",
       "        [ 1.3525, -1.4629,  0.2773],\n",
       "        [-0.7639, -0.2642, -0.4847]])"
      ]
     },
     "execution_count": 23,
     "metadata": {},
     "output_type": "execute_result"
    }
   ],
   "source": [
    "weight_k"
   ]
  },
  {
   "cell_type": "code",
   "execution_count": 24,
   "id": "b2e9a2f4-2c40-4385-81e6-a38c4eeceb1d",
   "metadata": {},
   "outputs": [
    {
     "data": {
      "text/plain": [
       "tensor([[[-3.0787, -0.1250, -0.1370],\n",
       "         [-0.3512,  2.5122, -1.1318],\n",
       "         [-3.9474,  3.5739, -0.8409],\n",
       "         [ 2.6136, -1.3523, -1.3466],\n",
       "         [-0.8401,  0.6729, -0.8288]],\n",
       "\n",
       "        [[-0.1899, -0.8097, -0.3441],\n",
       "         [-1.9266,  1.0747,  1.6985],\n",
       "         [ 3.4077, -0.7077, -0.4759],\n",
       "         [-1.0911, -0.8702, -0.1545],\n",
       "         [ 3.3216,  0.1063,  0.0116]],\n",
       "\n",
       "        [[-1.0448,  0.4755,  0.1138],\n",
       "         [ 4.9363, -0.5764,  0.4906],\n",
       "         [-1.7276,  1.2688,  0.0864],\n",
       "         [-1.2260,  1.9583,  0.3304],\n",
       "         [-0.2707,  0.3336, -0.9970]]])"
      ]
     },
     "execution_count": 24,
     "metadata": {},
     "output_type": "execute_result"
    }
   ],
   "source": [
    "torch.matmul(sample, weight_k)"
   ]
  },
  {
   "cell_type": "code",
   "execution_count": 25,
   "id": "eb8a0899-a9c6-4eb1-b7cb-6e36ed17949f",
   "metadata": {},
   "outputs": [],
   "source": [
    "key = torch.matmul(sample, weight_k)\n",
    "query = torch.matmul(sample, weight_q)\n",
    "values = torch.matmul(sample, weight_v)"
   ]
  },
  {
   "cell_type": "code",
   "execution_count": 26,
   "id": "acacf77b-2e2c-4c37-99e4-91b2f29a350f",
   "metadata": {},
   "outputs": [
    {
     "data": {
      "text/plain": [
       "torch.Size([3, 5, 3])"
      ]
     },
     "execution_count": 26,
     "metadata": {},
     "output_type": "execute_result"
    }
   ],
   "source": [
    "key.shape"
   ]
  },
  {
   "cell_type": "code",
   "execution_count": 27,
   "id": "b732ceab-0ed8-40a7-a85b-0e064bb226c8",
   "metadata": {},
   "outputs": [],
   "source": [
    "raw_score = torch.bmm(query, key.transpose(dim0=1, dim1=2))"
   ]
  },
  {
   "cell_type": "code",
   "execution_count": 28,
   "id": "01780507-bc09-4f6f-b52d-36b117765e93",
   "metadata": {},
   "outputs": [],
   "source": [
    "score = torch.softmax(raw_score / np.sqrt(emb_size), dim=2)\n",
    "\n",
    "# score = torch.softmax(raw_score, dim=2)"
   ]
  },
  {
   "cell_type": "code",
   "execution_count": 29,
   "id": "7958bb34-24da-405e-9684-8ca3d6722965",
   "metadata": {},
   "outputs": [
    {
     "data": {
      "text/plain": [
       "torch.Size([3, 5, 5])"
      ]
     },
     "execution_count": 29,
     "metadata": {},
     "output_type": "execute_result"
    }
   ],
   "source": [
    "score.shape"
   ]
  },
  {
   "cell_type": "code",
   "execution_count": 30,
   "id": "ac63ec64-a9d9-4948-9d0f-9395a4d8b867",
   "metadata": {},
   "outputs": [
    {
     "data": {
      "text/plain": [
       "torch.Size([3, 5, 3])"
      ]
     },
     "execution_count": 30,
     "metadata": {},
     "output_type": "execute_result"
    }
   ],
   "source": [
    "values.shape"
   ]
  },
  {
   "cell_type": "code",
   "execution_count": 31,
   "id": "dc70b72b-b6c4-455d-b487-48828d4aa09d",
   "metadata": {},
   "outputs": [],
   "source": [
    "cont_emb = torch.bmm(score, values)"
   ]
  },
  {
   "cell_type": "code",
   "execution_count": 32,
   "id": "d43d207c-6670-441b-8d88-d198e7eea090",
   "metadata": {},
   "outputs": [],
   "source": [
    "out_emb = torch.matmul(cont_emb, out)"
   ]
  },
  {
   "cell_type": "code",
   "execution_count": 33,
   "id": "fc1567fd-d9fd-4e4a-862f-4ef47c1f41a6",
   "metadata": {},
   "outputs": [
    {
     "data": {
      "text/plain": [
       "torch.Size([3, 5, 4])"
      ]
     },
     "execution_count": 33,
     "metadata": {},
     "output_type": "execute_result"
    }
   ],
   "source": [
    "out_emb.shape"
   ]
  },
  {
   "cell_type": "code",
   "execution_count": 38,
   "id": "e16d0f2a-334f-4b0b-86c4-3aa23b76b7bf",
   "metadata": {},
   "outputs": [
    {
     "data": {
      "text/plain": [
       "tensor([[[-3.9440, -1.0132,  0.0673, -1.9436],\n",
       "         [11.6907,  2.7958,  2.1171,  0.4195],\n",
       "         [ 3.0139,  0.7427,  0.8158, -0.5670],\n",
       "         [10.2175,  2.3155,  1.7518,  0.7493],\n",
       "         [ 5.9813,  1.5480,  1.3302, -0.5142]],\n",
       "\n",
       "        [[-4.2152, -1.5005, -1.2296,  1.5320],\n",
       "         [-6.4234, -2.4648, -1.9608,  2.7472],\n",
       "         [-4.5870,  1.0956,  0.8418, -6.6873],\n",
       "         [-6.5758, -2.6524, -2.1090,  3.2041],\n",
       "         [-4.4665,  1.1344,  0.8683, -6.7057]],\n",
       "\n",
       "        [[ 0.1710, -0.5897, -0.2192,  1.3262],\n",
       "         [-3.1908,  0.2608,  0.0864, -2.8792],\n",
       "         [ 1.1164, -0.3726, -0.0635,  1.4077],\n",
       "         [ 1.3178,  0.0914,  0.2597,  0.2513],\n",
       "         [ 0.4866,  0.0423,  0.1518, -0.0515]]])"
      ]
     },
     "execution_count": 38,
     "metadata": {},
     "output_type": "execute_result"
    }
   ],
   "source": [
    "out_emb"
   ]
  },
  {
   "cell_type": "markdown",
   "id": "15ce963d-1f01-4bca-9401-c524d9d7bf2d",
   "metadata": {},
   "source": [
    "### Add parameters (Torch model)"
   ]
  },
  {
   "cell_type": "code",
   "execution_count": 34,
   "id": "6804628e-7ec7-4206-b944-77e359d379a6",
   "metadata": {},
   "outputs": [],
   "source": [
    "from torch import nn\n",
    "import torch.nn.functional as F"
   ]
  },
  {
   "cell_type": "code",
   "execution_count": 39,
   "id": "54743cd9-ec10-4f97-9a3d-36d5da3556bd",
   "metadata": {},
   "outputs": [],
   "source": [
    "class SelfAttention(nn.Module):\n",
    "    \n",
    "    def __init__(\n",
    "        self,\n",
    "        num_heads: int, \n",
    "        emb_size: int,\n",
    "        new_emb_size: int\n",
    "    ):\n",
    "        super().__init__()\n",
    "        self.num_heads = num_heads\n",
    "        self.emb_size = emb_size\n",
    "        self.new_emb_size = new_emb_size\n",
    "        \n",
    "        self.to_keys = nn.Linear(\n",
    "            in_features=emb_size,\n",
    "            out_features=num_heads * new_emb_size,\n",
    "            bias=False\n",
    "        )\n",
    "        self.to_queries = nn.Linear(\n",
    "            in_features=emb_size,\n",
    "            out_features=num_heads * new_emb_size,\n",
    "            bias=False\n",
    "        )\n",
    "        self.to_values = nn.Linear(\n",
    "            in_features=emb_size,\n",
    "            out_features=num_heads * new_emb_size,\n",
    "            bias=False\n",
    "        )\n",
    "        \n",
    "        self.to_old_emb_size = nn.Linear(\n",
    "            in_features=num_heads * new_emb_size,\n",
    "            out_features=emb_size\n",
    "        )\n",
    "            \n",
    "        \n",
    "    def forward(self, data: torch.Tensor) -> torch.Tensor:\n",
    "        \n",
    "        queries = self.to_queries(data)\n",
    "        keys = self.to_keys(data)\n",
    "        values = self.to_values(data)\n",
    "        \n",
    "        raw = torch.bmm(\n",
    "            queries, \n",
    "            keys.transpose(dim0=1, dim1=2)\n",
    "        )\n",
    "        \n",
    "        score = torch.softmax(raw / np.sqrt(self.emb_size), dim=2)\n",
    "        \n",
    "        out = torch.bmm(score, values)\n",
    "        \n",
    "        return self.to_old_emb_size(out)"
   ]
  },
  {
   "cell_type": "code",
   "execution_count": 48,
   "id": "c9e84177-9d15-48ee-95de-32bfd97df25f",
   "metadata": {},
   "outputs": [],
   "source": [
    "s_attn = SelfAttention(\n",
    "    num_heads=1, \n",
    "    emb_size=emb_size,\n",
    "    new_emb_size=new_emb_size\n",
    ")"
   ]
  },
  {
   "cell_type": "code",
   "execution_count": 49,
   "id": "73321da6-0837-4282-a3e2-8cd40459da5a",
   "metadata": {},
   "outputs": [
    {
     "data": {
      "text/plain": [
       "tensor([[[ 0.3230, -0.3001, -0.1498, -0.3388],\n",
       "         [ 0.3428, -0.2814, -0.1335, -0.3267],\n",
       "         [ 0.3286, -0.2979, -0.1380, -0.3399],\n",
       "         [ 0.2972, -0.3365, -0.1485, -0.3639],\n",
       "         [ 0.3345, -0.2883, -0.1425, -0.3303]],\n",
       "\n",
       "        [[ 0.1972, -0.4585, -0.1482, -0.4970],\n",
       "         [ 0.2393, -0.4212, -0.0942, -0.4966],\n",
       "         [ 0.2033, -0.4556, -0.1373, -0.4960],\n",
       "         [ 0.1962, -0.4589, -0.1502, -0.4972],\n",
       "         [ 0.2196, -0.4421, -0.1152, -0.4955]],\n",
       "\n",
       "        [[ 0.3598, -0.2027, -0.1163, -0.4666],\n",
       "         [ 0.3736, -0.1990, -0.0984, -0.4469],\n",
       "         [ 0.3593, -0.2008, -0.1173, -0.4713],\n",
       "         [ 0.3734, -0.1907, -0.1033, -0.4593],\n",
       "         [ 0.3541, -0.2075, -0.1218, -0.4701]]], grad_fn=<AddBackward0>)"
      ]
     },
     "execution_count": 49,
     "metadata": {},
     "output_type": "execute_result"
    }
   ],
   "source": [
    "s_attn(sample)"
   ]
  },
  {
   "cell_type": "code",
   "execution_count": 72,
   "id": "c41f0e8d-73ec-4e90-b990-e4ffe2f2a1c4",
   "metadata": {},
   "outputs": [],
   "source": [
    "class TransformerConfig:\n",
    "    \n",
    "    def __init__(self):\n",
    "        self.num_heads = 2\n",
    "        self.emb_size = 4\n",
    "        self.new_emb_size = 2\n",
    "        self.factor = 2\n",
    "        self.n_targets = 1"
   ]
  },
  {
   "cell_type": "code",
   "execution_count": 73,
   "id": "8ba4dc0e-d42e-4c48-a737-ac00a42315e1",
   "metadata": {},
   "outputs": [],
   "source": [
    "class TransformerBlock(nn.Module):\n",
    "    \n",
    "    def __init__(self, config: TransformerConfig):\n",
    "        super().__init__()\n",
    "        self.config = config\n",
    "        self.attention = SelfAttention(\n",
    "            num_heads=config.num_heads,\n",
    "            emb_size=config.emb_size,\n",
    "            new_emb_size=config.new_emb_size\n",
    "        )\n",
    "        \n",
    "        self.norm1 = nn.LayerNorm(config.emb_size)\n",
    "        self.norm2 = nn.LayerNorm(config.emb_size)\n",
    "        \n",
    "        self.mlp = nn.Sequential(\n",
    "            nn.Linear(\n",
    "                config.emb_size, \n",
    "                config.factor * config.emb_size\n",
    "            ),\n",
    "            nn.ReLU(),\n",
    "            nn.Linear(\n",
    "                config.factor * config.emb_size,\n",
    "                config.emb_size\n",
    "            ),\n",
    "        )\n",
    "        \n",
    "    def forward(self, data: torch.Tensor) -> torch.Tensor:\n",
    "        data = self.attention(data) + data\n",
    "        \n",
    "        data = self.norm1(data)\n",
    "        \n",
    "        data = self.norm2(self.mlp(data) + data)\n",
    "        \n",
    "        return data"
   ]
  },
  {
   "cell_type": "code",
   "execution_count": 74,
   "id": "d4d14e30-3267-4f36-881f-1542a0b3a41c",
   "metadata": {},
   "outputs": [],
   "source": [
    "config = TransformerConfig()"
   ]
  },
  {
   "cell_type": "code",
   "execution_count": 75,
   "id": "9c5ab93f-9493-49a5-80e9-788e2ffc5001",
   "metadata": {},
   "outputs": [],
   "source": [
    "block = TransformerBlock(config)"
   ]
  },
  {
   "cell_type": "code",
   "execution_count": 76,
   "id": "883fc8fd-0f8a-4c32-aee2-e4f5e0bf5b9b",
   "metadata": {},
   "outputs": [
    {
     "data": {
      "text/plain": [
       "torch.Size([3, 5, 4])"
      ]
     },
     "execution_count": 76,
     "metadata": {},
     "output_type": "execute_result"
    }
   ],
   "source": [
    "sample.shape"
   ]
  },
  {
   "cell_type": "code",
   "execution_count": 77,
   "id": "fe0abe6d-8747-48ea-bb26-34a6fa6ec832",
   "metadata": {},
   "outputs": [
    {
     "data": {
      "text/plain": [
       "tensor([[[-1.6183,  0.5111,  0.0501,  1.0571],\n",
       "         [ 1.3903,  0.2462, -1.3959, -0.2406],\n",
       "         [ 0.4557,  0.8096, -1.7135,  0.4481],\n",
       "         [ 0.1047, -1.5131,  1.2991,  0.1093],\n",
       "         [ 0.7847, -0.1913, -1.5560,  0.9626]],\n",
       "\n",
       "        [[-1.1830, -0.7850,  0.8298,  1.1382],\n",
       "         [-0.2906,  1.7067, -0.6984, -0.7176],\n",
       "         [ 1.7050, -0.2815, -0.6941, -0.7294],\n",
       "         [-1.5759, -0.1451,  0.9460,  0.7749],\n",
       "         [ 1.4814,  0.3477, -0.8391, -0.9900]],\n",
       "\n",
       "        [[-1.1094,  1.6052, -0.4345, -0.0612],\n",
       "         [ 1.2586,  0.3570, -0.1065, -1.5090],\n",
       "         [-0.9546,  1.1934,  0.7851, -1.0238],\n",
       "         [ 0.8565,  1.1140, -1.1899, -0.7807],\n",
       "         [ 0.7017, -1.5599, -0.1650,  1.0232]]],\n",
       "       grad_fn=<NativeLayerNormBackward0>)"
      ]
     },
     "execution_count": 77,
     "metadata": {},
     "output_type": "execute_result"
    }
   ],
   "source": [
    "block(sample)"
   ]
  },
  {
   "cell_type": "code",
   "execution_count": 81,
   "id": "383f1163-8c61-4e6c-923d-80eb625822ae",
   "metadata": {},
   "outputs": [],
   "source": [
    "class PositionalEncoding(nn.Module):\n",
    "\n",
    "    def __init__(self, d_model, dropout, max_len=5000):\n",
    "        super(PositionalEncoding, self).__init__()\n",
    "        self.dropout = nn.Dropout(p=dropout)\n",
    "        \n",
    "        # Compute the positional encodings once in log space.\n",
    "        pe = torch.zeros(max_len, d_model)\n",
    "        position = torch.arange(0, max_len).unsqueeze(1)\n",
    "        div_term = torch.exp(torch.arange(0, d_model, 2) *\n",
    "                             -(math.log(10000.0) / d_model))\n",
    "        pe[:, 0::2] = torch.sin(position * div_term)\n",
    "        pe[:, 1::2] = torch.cos(position * div_term)\n",
    "        pe = pe.unsqueeze(0)\n",
    "        self.register_buffer('pe', pe)\n",
    "        \n",
    "    def forward(self, x):\n",
    "        x = x + Variable(self.pe[:, :x.size(1)], \n",
    "                         requires_grad=False)\n",
    "\n",
    "        return self.dropout(x)"
   ]
  },
  {
   "cell_type": "code",
   "execution_count": null,
   "id": "7c4a443e-8c19-4b36-bace-250f0ee158d2",
   "metadata": {},
   "outputs": [],
   "source": []
  },
  {
   "cell_type": "code",
   "execution_count": 79,
   "id": "377a0aa2-b1cf-4f71-b7a6-f6c6475b2194",
   "metadata": {},
   "outputs": [],
   "source": [
    "class ClfTransformerEncoder(nn.Module):\n",
    "    \n",
    "    def __init__(self, config: TransformerConfig):\n",
    "        self.config = config\n",
    "        \n",
    "        self.emb_tokens = nn.Embedding(\n",
    "            config.dict_size, \n",
    "            config.emb_size\n",
    "        )\n",
    "        \n",
    "        self.pos_encoding = PositionalEncoding(config)\n",
    "        \n",
    "        blocks = [(f\"block_{i}\", TransformerBlock(config)) for i in config.num_blocks]\n",
    "        \n",
    "        self.blocks = nn.Sequential(*blocks)\n",
    "        \n",
    "        self.out_prob = nn.Linear(config.emb_size, config.n_targets)\n",
    "        \n",
    "    def forward(self, data: torch.Tensor) -> torch.Tensor:\n",
    "        \n",
    "        return data"
   ]
  },
  {
   "cell_type": "code",
   "execution_count": null,
   "id": "7bb48a6d-7280-4158-a72c-94a8a40a1f9a",
   "metadata": {},
   "outputs": [],
   "source": []
  },
  {
   "cell_type": "code",
   "execution_count": null,
   "id": "2d131f97-62b7-4d91-b4bc-b03df00a7793",
   "metadata": {},
   "outputs": [],
   "source": []
  },
  {
   "cell_type": "code",
   "execution_count": null,
   "id": "b3aa251f-0418-44d9-a536-e20ede9b26f6",
   "metadata": {},
   "outputs": [],
   "source": []
  },
  {
   "cell_type": "code",
   "execution_count": null,
   "id": "b60079df-378f-4ff9-aea2-801acc142dc6",
   "metadata": {},
   "outputs": [],
   "source": []
  },
  {
   "cell_type": "code",
   "execution_count": null,
   "id": "b1e46f07-0f0d-47aa-9791-ec8303c780bf",
   "metadata": {},
   "outputs": [],
   "source": []
  },
  {
   "cell_type": "code",
   "execution_count": null,
   "id": "0d73830b-484d-4935-b49b-b9b1fb4ef523",
   "metadata": {},
   "outputs": [],
   "source": []
  },
  {
   "cell_type": "code",
   "execution_count": null,
   "id": "46c9ca06-a416-46f9-8ebd-acce033889d1",
   "metadata": {},
   "outputs": [],
   "source": []
  }
 ],
 "metadata": {
  "kernelspec": {
   "display_name": "Python 3 (ipykernel)",
   "language": "python",
   "name": "python3"
  },
  "language_info": {
   "codemirror_mode": {
    "name": "ipython",
    "version": 3
   },
   "file_extension": ".py",
   "mimetype": "text/x-python",
   "name": "python",
   "nbconvert_exporter": "python",
   "pygments_lexer": "ipython3",
   "version": "3.9.5"
  }
 },
 "nbformat": 4,
 "nbformat_minor": 5
}
